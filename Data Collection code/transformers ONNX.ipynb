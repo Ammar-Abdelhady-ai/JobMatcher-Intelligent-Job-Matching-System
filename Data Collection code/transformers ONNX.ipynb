{
 "cells": [
  {
   "cell_type": "code",
   "execution_count": 18,
   "id": "5a6bfb8e",
   "metadata": {},
   "outputs": [],
   "source": [
    "import fitz  # PyMuPDF\n",
    "from optimum.onnxruntime import ORTModelForQuestionAnswering, ORTQuantizer\n",
    "from transformers import AutoModelForQuestionAnswering, AutoTokenizer, pipeline, AutoConfig\n",
    "from onnxruntime import InferenceSession\n",
    "import torch"
   ]
  },
  {
   "cell_type": "code",
   "execution_count": 2,
   "id": "f37bc13b",
   "metadata": {},
   "outputs": [],
   "source": [
    "path = r'F:\\NLP Apple Course\\NLP Project\\Ammar Abdelhady CV.pdf'"
   ]
  },
  {
   "cell_type": "markdown",
   "id": "707c538a",
   "metadata": {},
   "source": [
    "<a href = \"https://huggingface.co/philschmid/roberta-base-squad2-optimized\">Optimized and Quantized deepset/roberta-base-squad2"
   ]
  },
  {
   "cell_type": "code",
   "execution_count": 3,
   "id": "517f8b5f",
   "metadata": {},
   "outputs": [],
   "source": [
    "def extract_text_from_pdf(pdf_path):\n",
    "    text = ''\n",
    "    pdf_document = fitz.open(pdf_path)\n",
    "    for page_number in range(pdf_document.page_count):\n",
    "        page = pdf_document[page_number]\n",
    "        text += page.get_text()\n",
    "    return text\n",
    "\n",
    "\n",
    "text_data = extract_text_from_pdf(path)\n"
   ]
  },
  {
   "cell_type": "code",
   "execution_count": 4,
   "id": "edef4f46",
   "metadata": {},
   "outputs": [
    {
     "name": "stdout",
     "output_type": "stream",
     "text": [
      "Ammar Abdelhady Raafat\n",
      " \n",
      "From  : Cairo, Egypt    \n",
      "Phone : 010-262-073-13 \n",
      "Email : ammarabdelhady8@gmail.com  \n",
      "GitHub   : Ammar abdelhady \n",
      "Linkedin : Ammar abdelhady \n",
      "PROFILE \n",
      "To give you a brief overview of my skill set, I have a solid understanding of computer science, worked in Back end \n",
      "development for 1 year and worked in the AI field for 3 years, I have great knowledge working in: \n",
      "● Data science field : including tasks like communicating stakeholders, data engineering pipeline, data collecting (web \n",
      "scraping), Data structures & Algorithms, Statistical Analysis, databases, analysis, visualization, data preprocessing, machine \n",
      "learning, Auto ML, deep learning and deployment on the cloud with web micro services & API. \n",
      " \n",
      "● Computer vision field : including tasks like classification, object detection, segmentation,  \n",
      "tracking, generative models, style transfer, Image similarity \n",
      " \n",
      "I am a fast, flexible code agnostic, and a hard worker learner. \n",
      " \n",
      " \n",
      "EXPERIENCE \n",
      "Training Program Description:                                                                                 (Aug 2021 – Oct 2022) \n",
      "Epsilon AI                                                                                                                                     \n",
      "Build expertise in data manipulation, visualization, predictive analytics, machine learning, and data science.  \n",
      "This comprehensive training program equipped me with valuable skills to launch or advance my data career.  \n",
      "I built a strong portfolio showcasing my abilities and completed a compelling Data Science and Machine Learning \n",
      "capstone project. Mentors, peers, and experts in the field provided guidance and support. This training program has \n",
      "helped me gain the necessary skills and experience for success in the data science and machine learning industry. \n",
      "PROJECTS \n",
      "● Laptops Price Prediction Using Web Scraping and Machine Learning predicts  laptop prices by combining web scraping \n",
      "from multiple online store and machine learning, including hyperparameter tuning. The project involves data collection, \n",
      "preprocessing, and utilizes Matplotlib, Seaborn, and Plotly for data analysis and visualization and build API , Deployment it in \n",
      "Heroku Cloud \n",
      " \n",
      "● Designed a YOLOv8-based system for accurate license plate and car detection. Implemented Optical Character \n",
      "Recognition for text extraction. Converted the model to ONNX format and fine-tuned it for efficient deployment using \n",
      "OpenVINO. Demonstrated end-to-end expertise in computer vision \n",
      " \n",
      "● Deploy Stock price prediction for multiple Companies using LSTM model on Django with HTML, CSS, JS, and Bootstrap. \n",
      "Includes data preprocessing, model training, integration, HTML templates, URL mapping, and deployment for a user-friendly \n",
      "web application. \n",
      " \n",
      "● Implemented and enhanced Human Emotion Detection with features including GradCAM visualization, ViT model training \n",
      "and data augmentation. Successfully deployed using FastAPI with an added Face Recognition Feature for personalized emotion \n",
      "analysis and enhanced user engagement. Acknowledged for contributions to open-source community, particularly in OpenCV. \n",
      " \n",
      "● Restaurants Customer Classification based on Rating project involves data preprocessing, analysis using Plotly, \n",
      "Matplotlib, and Seaborn, Auto ML and hyperparameter tuning for multiple models, and selecting the best model for customer \n",
      "classification. Deployment is done using Streamlit for a user-friendly web application interface \n",
      "COURSES \n",
      "Certified Data Scientist Professional - CDSP - Epsilon AI                                                                                          (Aug 2020 – Jun 2021) \n",
      "Training cum internship program in Data Science and Machine Learning - Epsilon AI                                 (Aug 2021 – Oct 2022) \n",
      "Huawei certification in AI                                                                                                                                                                    (Aug 2019 – Oct 2020) \n",
      "Huawei certification in Big Data                                                                                                                                                     (Oct 2019 – Des 2020) \n",
      "Deep Learning for Computer Vision Coursat.ai Dr. Ahmad ElSallab                        (Feb 2021 – Jun 2022) \n",
      "Python Deep Learning Diploma - Eng. Mustafa Othman                                                                                (Aug 2023 – Des 2023) \n",
      " \n",
      " \n",
      " \n",
      "Page 2 \n",
      "SKILLS \n",
      " \n",
      "DATA SCIENCE & AI SKILLS AND TOOLS  \n",
      " \n",
      " \n",
      "         SOFTWARE ENGINEERING SKILLS AND TOOLS \n",
      "● Proficient in machine learning using Sklearn , \n",
      "AutoML. \n",
      "● Proficient in deep learning using Tensorflow \n",
      "Keras \n",
      "● Deployment Machine learning in Heroku \n",
      "Cloud and using Streamlit . \n",
      "● Proficient in data preprocessing including feature \n",
      "engineering, transformation and feature selection \n",
      "for all kinds of data. \n",
      "● Proficient in data analysis using Numpy and \n",
      "Pandas. \n",
      "● Proficient in data visualization using Seaborn, \n",
      "Plotly & Dash, \n",
      "● Proficient in computer vision with OpenCV. \n",
      "● Proficient in databases with SQL and NoSQL \n",
      "● Proficient in web scraping using tools like \n",
      "Selenium, Beautiful soap. \n",
      "● Proficient in IoT solutions using Arduino & \n",
      "Raspberry pi. \n",
      " \n",
      "● HTML, CSS, JavaScript, jQuery \n",
      "● MySQL, SQLite, SQL Server \n",
      "● Flask, Django, Stramlit, FastAPI Framework \n",
      "● Git, GitLab & GitHub \n",
      " \n",
      "OTHER SKILLS \n",
      "● read books \n",
      "● Programming Languages as : \n",
      " C++, C, Java, prolog and haskell  \n",
      "● Communication Skills \n",
      "● Problem-Solving \n",
      " \n",
      "EDUCATION \n",
      "Bachelor Degree of Artificial Intelligence, Kafr El-Sheikh University                                                 (Sep 2019 – Jul 2023) \n",
      " \n",
      "Very good  - B+ - 3.32                                                                    \n",
      " \n",
      "\n"
     ]
    }
   ],
   "source": [
    "print(text_data)"
   ]
  },
  {
   "cell_type": "code",
   "execution_count": 5,
   "id": "18c3db0b",
   "metadata": {},
   "outputs": [],
   "source": [
    "model_name = \"deepset/roberta-base-squad2\"\n",
    "\n",
    "model = AutoModelForQuestionAnswering.from_pretrained(model_name)\n",
    "tokenizer = AutoTokenizer.from_pretrained(model_name)\n",
    "\n",
    "nlp = pipeline('question-answering', model=model, tokenizer=tokenizer)"
   ]
  },
  {
   "cell_type": "code",
   "execution_count": 6,
   "id": "ea920473",
   "metadata": {},
   "outputs": [],
   "source": [
    "QA_input = {\n",
    "    'question': 'what is the recomended job?'.lower(),\n",
    "    'context': text_data\n",
    "}\n",
    "res = nlp(QA_input)"
   ]
  },
  {
   "cell_type": "code",
   "execution_count": 7,
   "id": "8b0f365d",
   "metadata": {},
   "outputs": [
    {
     "data": {
      "text/plain": [
       "'AI field'"
      ]
     },
     "execution_count": 7,
     "metadata": {},
     "output_type": "execute_result"
    }
   ],
   "source": [
    "res[\"answer\"]"
   ]
  },
  {
   "cell_type": "code",
   "execution_count": 8,
   "id": "cb7934b8",
   "metadata": {},
   "outputs": [],
   "source": [
    "model = ORTModelForQuestionAnswering.from_pretrained(\"optimum/roberta-base-squad2\") # ONNX checkpoint\n",
    "tokenizer = AutoTokenizer.from_pretrained(\"deepset/roberta-base-squad2\")\n",
    "\n",
    "onnx_qa = pipeline(\"question-answering\",model=model,tokenizer=tokenizer)"
   ]
  },
  {
   "cell_type": "code",
   "execution_count": 9,
   "id": "9706eb3d",
   "metadata": {},
   "outputs": [],
   "source": [
    "question = \"what is the recomended job?\"\n",
    "context = text_data\n",
    "pred = onnx_qa(question, context)"
   ]
  },
  {
   "cell_type": "code",
   "execution_count": 10,
   "id": "26aacdff",
   "metadata": {},
   "outputs": [
    {
     "data": {
      "text/plain": [
       "'AI field'"
      ]
     },
     "execution_count": 10,
     "metadata": {},
     "output_type": "execute_result"
    }
   ],
   "source": [
    "pred[\"answer\"]"
   ]
  },
  {
   "cell_type": "code",
   "execution_count": 11,
   "id": "1aec37db",
   "metadata": {},
   "outputs": [],
   "source": [
    "save_model = r\"C:\\Users\\ammar\\My-Folder\\NLP Project\\ONNX_qouition_answering\\model\"\n",
    "save_tokenizer = r\"C:\\Users\\ammar\\My-Folder\\NLP Project\\ONNX_qouition_answering\\tokenizer\""
   ]
  },
  {
   "cell_type": "code",
   "execution_count": 12,
   "id": "1fb8a958",
   "metadata": {},
   "outputs": [
    {
     "data": {
      "text/plain": [
       "('C:\\\\Users\\\\ammar\\\\My-Folder\\\\NLP Project\\\\ONNX_qouition_answering\\\\tokenizer\\\\tokenizer_config.json',\n",
       " 'C:\\\\Users\\\\ammar\\\\My-Folder\\\\NLP Project\\\\ONNX_qouition_answering\\\\tokenizer\\\\special_tokens_map.json',\n",
       " 'C:\\\\Users\\\\ammar\\\\My-Folder\\\\NLP Project\\\\ONNX_qouition_answering\\\\tokenizer\\\\vocab.json',\n",
       " 'C:\\\\Users\\\\ammar\\\\My-Folder\\\\NLP Project\\\\ONNX_qouition_answering\\\\tokenizer\\\\merges.txt',\n",
       " 'C:\\\\Users\\\\ammar\\\\My-Folder\\\\NLP Project\\\\ONNX_qouition_answering\\\\tokenizer\\\\added_tokens.json',\n",
       " 'C:\\\\Users\\\\ammar\\\\My-Folder\\\\NLP Project\\\\ONNX_qouition_answering\\\\tokenizer\\\\tokenizer.json')"
      ]
     },
     "execution_count": 12,
     "metadata": {},
     "output_type": "execute_result"
    }
   ],
   "source": [
    "model.save_pretrained(save_model)\n",
    "tokenizer.save_pretrained(save_tokenizer)"
   ]
  },
  {
   "cell_type": "code",
   "execution_count": 13,
   "id": "83d096bf",
   "metadata": {},
   "outputs": [],
   "source": [
    "model = ORTModelForQuestionAnswering.from_pretrained(save_model)"
   ]
  },
  {
   "cell_type": "code",
   "execution_count": 14,
   "id": "01ced8bb",
   "metadata": {},
   "outputs": [
    {
     "data": {
      "text/plain": [
       "'AI field'"
      ]
     },
     "execution_count": 14,
     "metadata": {},
     "output_type": "execute_result"
    }
   ],
   "source": [
    "question = \"what is the recomended job?\"\n",
    "context = text_data\n",
    "pred = onnx_qa(question, context)\n",
    "pred[\"answer\"]"
   ]
  },
  {
   "cell_type": "code",
   "execution_count": null,
   "id": "84d5bfb6",
   "metadata": {},
   "outputs": [],
   "source": []
  }
 ],
 "metadata": {
  "kernelspec": {
   "display_name": "Python 3 (ipykernel)",
   "language": "python",
   "name": "python3"
  },
  "language_info": {
   "codemirror_mode": {
    "name": "ipython",
    "version": 3
   },
   "file_extension": ".py",
   "mimetype": "text/x-python",
   "name": "python",
   "nbconvert_exporter": "python",
   "pygments_lexer": "ipython3",
   "version": "3.8.17"
  }
 },
 "nbformat": 4,
 "nbformat_minor": 5
}
