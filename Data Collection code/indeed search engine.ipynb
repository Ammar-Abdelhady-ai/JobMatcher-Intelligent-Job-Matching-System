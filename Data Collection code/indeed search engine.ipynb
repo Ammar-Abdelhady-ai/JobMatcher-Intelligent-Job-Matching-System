{
 "cells": [
  {
   "cell_type": "code",
   "execution_count": null,
   "id": "47e737e4",
   "metadata": {},
   "outputs": [],
   "source": [
    "from bs4 import BeautifulSoup\n",
    "import re\n",
    "import time\n",
    "from selenium.webdriver.common.by import By\n",
    "from selenium.webdriver.support import expected_conditions as ec\n",
    "from selenium.webdriver.support.ui import WebDriverWait"
   ]
  },
  {
   "cell_type": "code",
   "execution_count": null,
   "id": "728d1044",
   "metadata": {},
   "outputs": [],
   "source": [
    "def search():\n",
    "    input_search = input(\"inter search : \")\n",
    "    location = input(\"inter your location 'defult is Egypt': \")\n",
    "    \n",
    "    search = input_search.split()\n",
    "    if not location:\n",
    "        location = \"Egypt\"\n",
    "    \n",
    "    if len(search) == 2:\n",
    "        link = f\"https://eg.indeed.com/jobs?q={search[0]}+{search[-1]}&l=&vjk=05b4c288eeceaf5c\"\n",
    "\n",
    "\n",
    "    elif len(search) == 3:\n",
    "        link = f\"https://eg.indeed.com/jobs?q={search[0]}+{search[1]}+{search[-1]}&l=&vjk=9db6ce606226a6e3\"\n",
    "\n",
    "\n",
    "    elif len(search) == 4:\n",
    "        link = f\"https://eg.indeed.com/jobs?q={searsh[0]}+{searsh[1]}+{searsh[2]}+{searsh[-1]}&l=&vjk=74f253bd36042d58\"\n",
    "\n",
    "    else:\n",
    "        link = f\"https://eg.indeed.com/jobs?q={''.join(search)}&l=&vjk=11de4a49c29f636c\"\n",
    "\n",
    "\n",
    "    print(location)\n",
    "    return link, input_search, location"
   ]
  },
  {
   "cell_type": "code",
   "execution_count": null,
   "id": "450f9047",
   "metadata": {},
   "outputs": [],
   "source": [
    "# open chromedriver on your PC\n",
    "def open_chromedriver():\n",
    "\n",
    "    from selenium.webdriver import Chrome, ChromeOptions # Pictures are not displayed in page\n",
    "                                                         # To download components quickly\n",
    "        \n",
    "    from selenium.webdriver.chrome.service import Service # to install The appropriate version for the user's browser\n",
    "    from webdriver_manager.chrome import ChromeDriverManager\n",
    "        \n",
    "    global web\n",
    "    chromedriver_installer = Service(ChromeDriverManager().install())\n",
    "    \n",
    "    chromedriver_options = ChromeOptions()\n",
    "    prefs = {'profile.managed_default_content_settings.images' : 2} # Pictures are not displayed in page\n",
    "    chromedriver_options.add_experimental_option('prefs', prefs)\n",
    "    \n",
    "    web = Chrome(service = chromedriver_installer, chrome_options = chromedriver_options)\n",
    "        \n",
    "    return web\n"
   ]
  },
  {
   "cell_type": "code",
   "execution_count": null,
   "id": "3c7ac89d",
   "metadata": {},
   "outputs": [],
   "source": [
    "link, input_search, location = search()\n",
    "web = open_chromedriver()"
   ]
  },
  {
   "cell_type": "code",
   "execution_count": null,
   "id": "3af6c3c6",
   "metadata": {},
   "outputs": [],
   "source": [
    "# scroll down all the page to load all data of item                       \n",
    "def scroll_down_all_the_way():\n",
    "    \n",
    "    from time import sleep \n",
    "    \n",
    "    end = 0\n",
    "    while end < web.execute_script('return document.body.scrollHeight'):\n",
    "        start = end\n",
    "        end = start + 700\n",
    "        web.execute_script(f'window.scrollTo({start}, {end})')\n",
    "        sleep(4)\n",
    "        \n",
    "        try:\n",
    "            specs = web.find_element(by=\"xpath\", value=\"/html/body/div[1]/div/main/section/button\").click()\n",
    "        except Exception as error:\n",
    "            pass"
   ]
  },
  {
   "cell_type": "code",
   "execution_count": null,
   "id": "1644d049",
   "metadata": {},
   "outputs": [],
   "source": [
    "def get_links():\n",
    "    web.get(link) # open link\n",
    "    soup = BeautifulSoup(web.page_source, 'html.parser') # send request\n",
    "\n",
    "    links = []\n",
    "    \n",
    "    while True:\n",
    "        try:\n",
    "            specs = web.find_element(by=\"xpath\", value=\"/html/body/main/div/div[1]/div/div[5]/div[1]/nav/ul/li[6]/a\").click()\n",
    "            jobs_data = soup.find(\"ul\", {\"class\": \"css-zu9cdh eu4oa1w0\"})\n",
    "            job_item = jobs_data.find_all(\"li\", {\"class\": \"css-5lfssm eu4oa1w0\"})\n",
    "\n",
    "            for i in job_item:\n",
    "                try:\n",
    "                    links.append(\"https://eg.indeed.com\" + i.a[\"href\"])\n",
    "                except:\n",
    "                    pass\n",
    "            time.sleep(2)\n",
    "        except:\n",
    "            try:\n",
    "                web.find_element(by=\"xpath\", value=\"/html/body/div[2]/div[1]/div[1]/button\").click()\n",
    "            except:\n",
    "                break\n",
    "    return links"
   ]
  },
  {
   "cell_type": "code",
   "execution_count": null,
   "id": "af2d2a79",
   "metadata": {},
   "outputs": [],
   "source": [
    "links = get_links()\n",
    "len(links)"
   ]
  },
  {
   "cell_type": "code",
   "execution_count": null,
   "id": "be8c6400",
   "metadata": {},
   "outputs": [],
   "source": [
    "def display(web = web):\n",
    "    time.sleep(25)\n",
    "    WebDriverWait(web, 60).until(ec.visibility_of_element_located((By.XPATH, '/html/body'))) # element for search results\n",
    "    time.sleep(10)"
   ]
  },
  {
   "cell_type": "code",
   "execution_count": null,
   "id": "674f117b",
   "metadata": {},
   "outputs": [],
   "source": [
    "def get_information(links=links):\n",
    "    listings = []\n",
    "    for link in links:\n",
    "        try:\n",
    "            web.get(link)\n",
    "            time.sleep(165)\n",
    "    #         display()\n",
    "            soup = BeautifulSoup(web.page_source, 'html.parser') # send request\n",
    "\n",
    "            listing = {}\n",
    "\n",
    "            contant = soup.find(\"div\", {\"class\": \"jobsearch-JobComponent css-u4y1in eu4oa1w0 jobsearch-JobComponent-bottomDivider\"})   \n",
    "            listing[\"job_title\"] = contant.find(\"div\", {\"class\": \"jobsearch-JobInfoHeader-title-container jobsearch-JobInfoHeader-title-containerEji css-82ysm6 eu4oa1w0\"}).get_text(strip=True)\n",
    "            listing[\"company_name\"] = contant.find(\"span\", {\"class\": \"css-1cxc9zk e1wnkr790\"}).get_text(strip=True)\n",
    "            listing[\"city_name\"] = contant.find(\"div\", {\"data-testid\": \"inlineHeader-companyLocation\"}).get_text(strip=True)\n",
    "\n",
    "            job_details = contant.find(\"div\", {\"class\": \"css-1bkjm6j e37uo190\"})\n",
    "            if job_details:\n",
    "                listing[\"job_details\"] = job_details.get_text(strip=True)\n",
    "\n",
    "            job_type = contant.find(\"div\", {\"class\": \"css-1hplm3f eu4oa1w0\"})\n",
    "            if job_type:\n",
    "                listing[\"job_type\"] = job_type.get_text(strip=True)\n",
    "            else:\n",
    "                listing[\"job_type\"] = \"Full time\"\n",
    "\n",
    "            job_info = contant.find(\"div\", {\"id\": \"jobDescriptionText\"})\n",
    "            job_decrip_and_req = [i.get_text(strip=True) for i in job_info.find_all(\"ul\")]\n",
    "            listing[\"job_description\"] = job_decrip_and_req[0]\n",
    "            listing[\"job_requirements\"] = job_decrip_and_req[1]\n",
    "            if len(job_decrip_and_req) > 2:\n",
    "                listing[\"additional_info\"] = job_decrip_and_req[2]\n",
    "            listing[\"company_info\"] = job_info.get_text(strip=True)[:-len(\"\".join(job_decrip_and_req))]\n",
    "\n",
    "            listings.append(listing)\n",
    "            print(\"\\n\", \"-\"*100, listing, \"\\n\")\n",
    "            \n",
    "        except Exception as error:\n",
    "            print(error)\n",
    "        \n",
    "    return listings"
   ]
  },
  {
   "cell_type": "code",
   "execution_count": null,
   "id": "e6d0e25f",
   "metadata": {},
   "outputs": [],
   "source": [
    "listings = get_information()"
   ]
  },
  {
   "cell_type": "code",
   "execution_count": null,
   "id": "5f2e8f4b",
   "metadata": {},
   "outputs": [],
   "source": [
    "len(listings)"
   ]
  },
  {
   "cell_type": "code",
   "execution_count": null,
   "id": "ab1c25b3",
   "metadata": {},
   "outputs": [],
   "source": [
    "import pandas as pd\n",
    "pd.options.display.max_columns = None # donot display all rows and columns of data\n",
    "\n",
    "df = pd.DataFrame.from_records(listings)\n",
    "df"
   ]
  },
  {
   "cell_type": "code",
   "execution_count": null,
   "id": "4ad3a603",
   "metadata": {},
   "outputs": [],
   "source": [
    "df.isna().sum()"
   ]
  },
  {
   "cell_type": "code",
   "execution_count": null,
   "id": "d8d01639",
   "metadata": {},
   "outputs": [],
   "source": [
    "def save(path, df=df, save_as_csv=True, data=listings):\n",
    "    import pandas as pd\n",
    "    import joblib\n",
    "\n",
    "\n",
    "    joblib.dump(listings, path) # load data form PC\n",
    "    \n",
    "    if save_as_csv:\n",
    "        df.to_csv(path, index=False)"
   ]
  },
  {
   "cell_type": "code",
   "execution_count": null,
   "id": "0b19ff69",
   "metadata": {},
   "outputs": [],
   "source": [
    "file_name = \"Indeed_\" + input_search\n",
    "path = f\"F:\\\\NLP Apple Course\\\\NLP Project\\\\{file_name}.pkl\"\n",
    "\n",
    "save(path = path)"
   ]
  },
  {
   "cell_type": "code",
   "execution_count": null,
   "id": "287c2e94",
   "metadata": {},
   "outputs": [],
   "source": [
    "df = pd.DataFrame.from_records(listings)\n",
    "df.to_csv(path, index=False)"
   ]
  },
  {
   "cell_type": "code",
   "execution_count": null,
   "id": "9d790f3e",
   "metadata": {},
   "outputs": [],
   "source": [
    "csv_path = f\"F:\\\\NLP Apple Course\\\\NLP Project\\\\{file_name}.csv\"\n",
    "\n",
    "df.to_csv(csv_path, index=False)"
   ]
  },
  {
   "cell_type": "code",
   "execution_count": null,
   "id": "6c1d4fbe",
   "metadata": {},
   "outputs": [],
   "source": [
    "listings"
   ]
  },
  {
   "cell_type": "code",
   "execution_count": null,
   "id": "dea63b34",
   "metadata": {},
   "outputs": [],
   "source": [
    "path"
   ]
  }
 ],
 "metadata": {
  "kernelspec": {
   "display_name": "Python 3 (ipykernel)",
   "language": "python",
   "name": "python3"
  },
  "language_info": {
   "codemirror_mode": {
    "name": "ipython",
    "version": 3
   },
   "file_extension": ".py",
   "mimetype": "text/x-python",
   "name": "python",
   "nbconvert_exporter": "python",
   "pygments_lexer": "ipython3",
   "version": "3.8.17"
  }
 },
 "nbformat": 4,
 "nbformat_minor": 5
}
